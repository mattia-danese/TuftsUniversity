{
 "cells": [
  {
   "cell_type": "markdown",
   "id": "4cbba409",
   "metadata": {},
   "source": [
    "# Spam or Ham\n",
    "\n",
    "In this assignment we will be going over Spam detection as a classification problem.\n",
    "The main goal will be to classify whether an email is spam or not spam (referred to as ham).\n",
    "\n",
    "We will primarily be using scikit-learn for simple classifiers and TensorFlow to try an advanced classifier - a Neural Network."
   ]
  },
  {
   "cell_type": "code",
   "execution_count": 1,
   "id": "97ae6f65",
   "metadata": {},
   "outputs": [
    {
     "name": "stderr",
     "output_type": "stream",
     "text": [
      "2023-02-20 13:38:50.312430: I tensorflow/core/platform/cpu_feature_guard.cc:193] This TensorFlow binary is optimized with oneAPI Deep Neural Network Library (oneDNN) to use the following CPU instructions in performance-critical operations:  SSE4.1 SSE4.2\n",
      "To enable them in other operations, rebuild TensorFlow with the appropriate compiler flags.\n"
     ]
    },
    {
     "name": "stdout",
     "output_type": "stream",
     "text": [
      "2.10.0\n",
      "1.2.0\n"
     ]
    }
   ],
   "source": [
    "# importing the necessary libraries\n",
    "import sklearn\n",
    "from sklearn import svm, naive_bayes\n",
    "import tensorflow as tf\n",
    "import numpy as np\n",
    "import os\n",
    "import matplotlib\n",
    "\n",
    "# Verifying installation\n",
    "print(tf.__version__)\n",
    "print(sklearn.__version__)"
   ]
  },
  {
   "cell_type": "code",
   "execution_count": 298,
   "id": "5b7936f1",
   "metadata": {},
   "outputs": [],
   "source": [
    "# Downloading the spamham dataset\n",
    "if \"spambase.data\" not in os.listdir(\".\"):\n",
    "    os.system(\"wget http://archive.ics.uci.edu/ml/machine-learning-databases/spambase/spambase.data\")\n",
    "    os.system(\"wget https://archive.ics.uci.edu/ml/machine-learning-databases/spambase/spambase.DOCUMENTATION\")\n",
    "    os.system(\"wget https://archive.ics.uci.edu/ml/machine-learning-databases/spambase/spambase.names\")"
   ]
  },
  {
   "cell_type": "markdown",
   "id": "07b4ceec",
   "metadata": {},
   "source": [
    "Please go through spambase.DOCUMENTATION, spambase.names to understand the organization of the spambase.data.\n",
    "Pay attention to the number of features each entry consists of and the label "
   ]
  },
  {
   "cell_type": "markdown",
   "id": "0d22e0a2",
   "metadata": {},
   "source": [
    "# Task 1\n",
    "\n",
    "Read the spambase data into this notebook, (e.g., by using readlines(..), csv.reader(..) or a similar function).\n",
    "You should store it as a python list named \"data\" and make sure the assertions are resolved"
   ]
  },
  {
   "cell_type": "code",
   "execution_count": 93,
   "id": "256b6131",
   "metadata": {},
   "outputs": [],
   "source": [
    "###############\n",
    "## Your code ##\n",
    "###############\n",
    "f = open(\"spambase.data\", \"r\")\n",
    "data = f.readlines()\n",
    "\n",
    "assert(data[-1].rstrip().split(',')[-4:] == [\"1.25\",\"5\",\"40\",\"0\"])\n",
    "assert(len(data) == 4601)\n",
    "\n",
    "# shuffle data \n",
    "np.random.shuffle(data)"
   ]
  },
  {
   "cell_type": "markdown",
   "id": "3b7e56e4",
   "metadata": {},
   "source": [
    "# Task 2\n",
    "Parse and divide the data into 4 lists: X_train, y_train, X_test, y_test \n",
    "\n",
    "The following should hold:\n",
    "* The length of X_train, y_train should be 3000\n",
    "* The length of X_test, y_test should be 1601\n",
    "* Each array in X_train, X_test should 57 floating point numbers\n",
    "* Each element in y_train, y_test should be an int; either 0 (ham) or 1 (spam)\n",
    "\n",
    "Make sure the assertions at the end are resolved\n"
   ]
  },
  {
   "cell_type": "code",
   "execution_count": 134,
   "id": "8826624b",
   "metadata": {},
   "outputs": [],
   "source": [
    "###############\n",
    "## Your code ##\n",
    "###############\n",
    "from sklearn.model_selection import train_test_split\n",
    "\n",
    "# for i in range(len(data)):\n",
    "#     data[i] = data[i].split(',')\n",
    "x = [s[:-1] for s in data]\n",
    "y = [s[-1].strip() for s in data]\n",
    "\n",
    "X_train, X_test, y_train, y_test = train_test_split(x, y, test_size=0.99999999-float(3000)/float(4601))\n",
    "\n",
    "for i in range(len(X_train)):\n",
    "    X_train[i] = [float(x.strip()) for x in X_train[i]]\n",
    "for i in range(len(X_test)):\n",
    "    X_test[i] = [float(x) for x in X_test[i]]\n",
    "\n",
    "for i in range(len(y_train)):\n",
    "    y_train[i] = int(y_train[i])\n",
    "for i in range(len(y_test)):\n",
    "    y_test[i] = int(y_test[i])\n",
    "\n",
    "\n",
    "\n",
    "# We convert our lists into numpy arrays\n",
    "X_train, y_train, X_test, y_test = \\\n",
    "np.array(X_train), \\\n",
    "np.array(y_train), \\\n",
    "np.array(X_test), \\\n",
    "np.array(y_test)\n",
    "\n",
    "assert(X_train.shape == (3000,57))\n",
    "assert(y_train.shape == (3000,))\n",
    "assert(X_test.shape == (1601,57))\n",
    "assert(y_test.shape == (1601,))"
   ]
  },
  {
   "cell_type": "markdown",
   "id": "df49fdb2",
   "metadata": {},
   "source": [
    "# Task 3\n",
    "\n",
    "We are first going to establish a simple baseline.\n",
    "Create a classifier function called \"baseline_classifier(X_test)\" that always predicts 0 (ham).\n",
    "It should return an numpy array of predictions.\n",
    "Use the provided score function to print out the accuracy.\n",
    "The accuracy should roughly be equal to the fraction of ham labels in the dataset (i.e., ~0.6).\n",
    "This is the baseline we would like our classifiers to beat."
   ]
  },
  {
   "cell_type": "code",
   "execution_count": 136,
   "id": "370ce3c5",
   "metadata": {},
   "outputs": [
    {
     "name": "stdout",
     "output_type": "stream",
     "text": [
      "0.7888819487820112\n"
     ]
    }
   ],
   "source": [
    "from sklearn.neighbors import KNeighborsClassifier\n",
    "\n",
    "def baseline_classifier(X_test):\n",
    "    knn = KNeighborsClassifier()\n",
    "    knn.fit(X_train, y_train)\n",
    "    y_pred = knn.predict(X_test)\n",
    "    print(score(y_pred, y_test))\n",
    "    \n",
    "def score(y_pred, y_test):\n",
    "    return np.sum(np.equal(y_pred, y_test))/y_pred.shape[0]\n",
    "\n",
    "###############\n",
    "## Your code ##\n",
    "###############\n",
    "baseline_classifier(X_test)"
   ]
  },
  {
   "cell_type": "markdown",
   "id": "adcee1c1",
   "metadata": {},
   "source": [
    "# Task 4\n",
    "\n",
    "We are going to start with a rule based classifier.\n",
    "A rule based classifier applies boolean logic on a given set of features to predict the label e.g., prediction = 0 if feature_1 > 0.6 and feature_1 < 0.75 ... and feature_N > 0.33 else 1.\n",
    "\n",
    "For this task you will create 5 rules of **your** choice to predict whether an example is spam or ham.\n",
    "Play around with the features you choose and the applied boolean logic you apply to push the limits of this classifier.\n",
    "Report the accuracy your chosen rule based classifier is able to achieve."
   ]
  },
  {
   "cell_type": "code",
   "execution_count": 141,
   "id": "4284d84b",
   "metadata": {},
   "outputs": [
    {
     "name": "stdout",
     "output_type": "stream",
     "text": [
      "0.637101811367895\n",
      "0.6089943785134291\n"
     ]
    }
   ],
   "source": [
    "# A 2-rule classifier has been created for you as an example.\n",
    "# It chooses the 24th and 55th features to make a prediction\n",
    "\n",
    "def two_rule_classifier(X_test):\n",
    "    y_pred = []\n",
    "    for i in range(len(X_test)):\n",
    "        if X_test[i][23] > 0.65 and X_test[i][54] > 0.23:\n",
    "            prediction = 1\n",
    "        else:\n",
    "            prediction = 0\n",
    "        \n",
    "        y_pred.append(prediction)\n",
    "    return np.array(y_pred)\n",
    "    \n",
    "    \n",
    "y_pred = two_rule_classifier(X_test)\n",
    "\n",
    "print(score(y_pred, y_test))\n",
    "\n",
    "###############\n",
    "## Your code ##\n",
    "###############\n",
    "'''\n",
    "1. capital_run_length_total \n",
    "2. char_freq_$\n",
    "3. char_freq_!\n",
    "4. word_freq_money\n",
    "5. word_freq_free\n",
    "\n",
    "'''\n",
    "\n",
    "\n",
    "def five_rule_classifier(X_test):\n",
    "    y_pred = []\n",
    "    \n",
    "    for i in range(len(X_test)):\n",
    "        if X_test[i][55] > 283.29 and X_test[i][51] > 0.044238 \\\n",
    "        and X_test[i][50] > 0.075811 and X_test[i][22] > 0.10165 and X_test[i][14] > 0.24885:\n",
    "            prediction = 1\n",
    "        else:\n",
    "            prediction = 0\n",
    "        \n",
    "        y_pred.append(prediction)\n",
    "    return np.array(y_pred)\n",
    "\n",
    "y_pred_5 = five_rule_classifier(X_test)\n",
    "print(score(y_pred_5, y_test))\n",
    "    \n",
    "    "
   ]
  },
  {
   "cell_type": "markdown",
   "id": "35b75923",
   "metadata": {},
   "source": [
    "# Task 5\n",
    "\n",
    "The first real spam classifier we are going to build will be a Support Vector Machine (SVM).\n",
    "Define a linear SVM classifier (svm.SVC), train it using the fit() function and report the accuracy using the score() function.\n",
    "Please see https://scikit-learn.org/stable/modules/generated/sklearn.svm.SVC.html#sklearn.svm.SVC\n",
    "\n",
    "The training time for SVM's grows rapidly with the size of the training data.\n",
    "You will have to randomly sample 200 examples from X_train, y_train to train the SVM in a feasible time.\n",
    "One way to do this is to use np.random.permutation(..).\n",
    "Train the SVM classifier 5 times, each with a different sample of training examples and report the average accuracy"
   ]
  },
  {
   "cell_type": "code",
   "execution_count": 149,
   "id": "d9ce5a9a",
   "metadata": {},
   "outputs": [
    {
     "name": "stdout",
     "output_type": "stream",
     "text": [
      "0.8808244846970643\n"
     ]
    }
   ],
   "source": [
    "svm_classifier = svm.SVC(kernel='linear')\n",
    "\n",
    "###############\n",
    "## Your code ##\n",
    "###############\n",
    "accuracies = []\n",
    "\n",
    "for i in range(5):\n",
    "    idxs = np.random.permutation(3000)[:200]\n",
    "    x_temp = [X_train[i] for i in idxs]\n",
    "    y_temp = [y_train[i] for i in idxs]\n",
    "    \n",
    "    svm_classifier.fit(x_temp, y_temp)\n",
    "    pred = svm_classifier.predict(X_test)\n",
    "    accuracies.append(score(pred, y_test))\n",
    "\n",
    "print(sum(accuracies) / 5)"
   ]
  },
  {
   "cell_type": "markdown",
   "id": "3050ee5e",
   "metadata": {},
   "source": [
    "# Task 6\n",
    "\n",
    "Now we are going to try out naive bayes (naive_bayes.GaussianNB) which is another popular classifier.\n",
    "Please see https://scikit-learn.org/stable/modules/naive_bayes.html"
   ]
  },
  {
   "cell_type": "code",
   "execution_count": 151,
   "id": "69d348fd",
   "metadata": {},
   "outputs": [
    {
     "name": "stdout",
     "output_type": "stream",
     "text": [
      "0.816364772017489\n"
     ]
    }
   ],
   "source": [
    "nb_classifier = naive_bayes.GaussianNB()\n",
    "\n",
    "###############\n",
    "## Your code ##\n",
    "###############\n",
    "nb_classifier.fit(X_train, y_train)\n",
    "pred = nb_classifier.predict(X_test)\n",
    "print(score(pred, y_test))"
   ]
  },
  {
   "cell_type": "markdown",
   "id": "10318c2e",
   "metadata": {},
   "source": [
    "# Task 7\n",
    "\n",
    "You may observe the SVM classifier with the linear kernel is doing a better job on test accuracy.\n",
    "We are now going to compare these classifiers on two other fronts:\n",
    "\n",
    "* Training data required vs obtained test accuracy\n",
    "\n",
    "Sweep through different sizes of X_train, y_train from [10,20,40,80,160,200].\n",
    "Plot a graph showing \"size of X_train\" on the x-axis and the obtained score on y-axis for both these classifiers.\n",
    "\n",
    "* False positive rate\n",
    "\n",
    "False positive is defined as a classifier predicting that an email is spam when it isn't.\n",
    "Report false positive rate (number of false positives / 1601) for both these classifiers\n"
   ]
  },
  {
   "cell_type": "code",
   "execution_count": 163,
   "id": "d1f3d09e",
   "metadata": {},
   "outputs": [
    {
     "name": "stdout",
     "output_type": "stream",
     "text": [
      "False Positive rate of the SVM Classifier: 0.059962523422860715\n",
      "False Positive rate of the NB Classifier: 0.15365396627108058\n"
     ]
    },
    {
     "data": {
      "text/plain": [
       "<matplotlib.legend.Legend at 0x7f81ce0c8eb0>"
      ]
     },
     "execution_count": 163,
     "metadata": {},
     "output_type": "execute_result"
    },
    {
     "data": {
      "image/png": "[encoded data removed]",
      "text/plain": [
       "<Figure size 640x480 with 1 Axes>"
      ]
     },
     "metadata": {},
     "output_type": "display_data"
    }
   ],
   "source": [
    "num_samples = [10,20,40,80,160,200]\n",
    "\n",
    "###############\n",
    "## Your code ##\n",
    "###############\n",
    "import matplotlib.pyplot as plt\n",
    "\n",
    "def calculate_false_positive_rate(pred, y_test):\n",
    "    count = 0\n",
    "    for i in range(len(pred)):\n",
    "        if pred[i] == 1 and y_test[i] == 0:\n",
    "            count += 1\n",
    "    return float(count) / float(len(pred))\n",
    "\n",
    "\n",
    "svm_classifier = svm.SVC(kernel='linear')\n",
    "nb_classifier = naive_bayes.GaussianNB()\n",
    "\n",
    "svm_scores = []\n",
    "nb_scores = []\n",
    "\n",
    "svm_fpr = 0.0\n",
    "nb_fpr = 0.0\n",
    "\n",
    "for num in num_samples:\n",
    "    idxs = np.random.permutation(3000)[:num]\n",
    "    x_temp = [X_train[i] for i in idxs]\n",
    "    y_temp = [y_train[i] for i in idxs]\n",
    "    \n",
    "    svm_classifier.fit(x_temp, y_temp)\n",
    "    nb_classifier.fit(x_temp, y_temp)\n",
    "    \n",
    "    svm_pred = svm_classifier.predict(X_test)\n",
    "    nb_pred = nb_classifier.predict(X_test)\n",
    "    \n",
    "    svm_scores.append(score(svm_pred, y_test))\n",
    "    nb_scores.append(score(nb_pred, y_test))\n",
    "    \n",
    "    if num == 200:\n",
    "        svm_fpr = calculate_false_positive_rate(svm_pred, y_test)\n",
    "        nb_fpr = calculate_false_positive_rate(nb_pred, y_test)\n",
    "\n",
    "print(\"False Positive rate of the SVM Classifier:\", svm_fpr)\n",
    "print(\"False Positive rate of the NB Classifier:\", nb_fpr)\n",
    "\n",
    "plt.plot(num_samples, svm_scores, label=\"SVM Classifier\")\n",
    "plt.plot(num_samples, nb_scores, label=\"NB Classifier\")\n",
    "\n",
    "plt.xlabel(\"Size of X_train\")\n",
    "plt.ylabel(\"Classifier Score\")\n",
    "plt.legend()"
   ]
  },
  {
   "cell_type": "markdown",
   "id": "5f820d94",
   "metadata": {},
   "source": [
    "# Task 8\n",
    "\n",
    "Finally we are going to try a neural network based classifier, built using TensorFlow.\n",
    "There are a multitude of neural networks that we can come up with.\n",
    "Tensorflow also supports multiple ways of creating and training neural networks\n",
    "The simplest way is to use the keras API. Which is similar to the sklearn API we have seen previously.\n",
    "\n",
    "Let's define the simplest neural network possible: a 1 neuron network (also called perceptron).\n",
    "The prediction it performs is sigmoid(W * X_train +  b) and is trained for 30 epochs.\n",
    "Run the code below. The model should achieve a test accuracy of ~0.9."
   ]
  },
  {
   "cell_type": "code",
   "execution_count": 198,
   "id": "324c3975",
   "metadata": {
    "scrolled": true
   },
   "outputs": [
    {
     "name": "stdout",
     "output_type": "stream",
     "text": [
      "0.9144284725189209\n"
     ]
    }
   ],
   "source": [
    "#defining a model\n",
    "perceptron_classifier = tf.keras.Sequential([\n",
    "    tf.keras.layers.Flatten(input_shape=(57,1)),\n",
    "    tf.keras.layers.Dense(1, activation='sigmoid')\n",
    "])\n",
    "\n",
    "#compiling it with a given loss function and optimizer choice\n",
    "perceptron_classifier.compile(optimizer='adam',\n",
    "            loss='binary_crossentropy',\n",
    "            metrics=['accuracy'])\n",
    "\n",
    "#training\n",
    "perceptron_classifier.fit(X_train, y_train, epochs=30, verbose=0)\n",
    "\n",
    "#evaluating\n",
    "score = perceptron_classifier.evaluate(X_test, y_test ,verbose=0)\n",
    "print(score[1])"
   ]
  },
  {
   "cell_type": "markdown",
   "id": "e97f652d",
   "metadata": {},
   "source": [
    "# Task 9\n",
    "\n",
    "The last task is to customize the neural-network to achieve a higher test accuracy if possible.\n",
    "One way to accomplish this is to additional layers.\n",
    "How you modify the neural network is **your** choice.\n",
    "Report the accuracy you were able to achieve on the test data.\n",
    "\n",
    "For example to a layer of width 3 neurons with ReLU activations can be created as follows: tf.keras.layers.Dense(3, activation='relu').\n",
    "We can insert the new layer(s) between the input layer and the final layer when creating the model.\n",
    "\n",
    "Please see https://www.tensorflow.org/api_docs/python/tf/keras/layers/Dense for more details on creating layers.\n",
    "Please see https://www.tensorflow.org/api_docs/python/tf/keras/activations for the list of potential activation functions."
   ]
  },
  {
   "cell_type": "code",
   "execution_count": 297,
   "id": "885c519c",
   "metadata": {},
   "outputs": [
    {
     "name": "stdout",
     "output_type": "stream",
     "text": [
      "0.921923816204071\n"
     ]
    }
   ],
   "source": [
    "###############\n",
    "## Your code ##\n",
    "###############\n",
    "\n",
    "#defining a model\n",
    "model = tf.keras.Sequential([\n",
    "    tf.keras.layers.Flatten(input_shape=(57,1)),\n",
    "    tf.keras.layers.Dense(50, activation='sigmoid'),\n",
    "    tf.keras.layers.Dense(50, activation='relu'),\n",
    "    tf.keras.layers.Dense(10, activation='sigmoid'),\n",
    "    tf.keras.layers.Dense(5, activation='softplus'),\n",
    "    tf.keras.layers.Dense(1, activation='selu')\n",
    "])\n",
    "\n",
    "#compiling it with a given loss function and optimizer choice\n",
    "model.compile(optimizer='adam',\n",
    "            loss='binary_crossentropy',\n",
    "            metrics=['accuracy'])\n",
    "\n",
    "#training\n",
    "model.fit(X_train, y_train, epochs=30, verbose=0)\n",
    "\n",
    "#evaluating\n",
    "score = model.evaluate(X_test, y_test ,verbose=0)\n",
    "print(score[1])"
   ]
  }
 ],
 "metadata": {
  "kernelspec": {
   "display_name": "Python 3 (ipykernel)",
   "language": "python",
   "name": "python3"
  },
  "language_info": {
   "codemirror_mode": {
    "name": "ipython",
    "version": 3
   },
   "file_extension": ".py",
   "mimetype": "text/x-python",
   "name": "python",
   "nbconvert_exporter": "python",
   "pygments_lexer": "ipython3",
   "version": "3.9.5"
  }
 },
 "nbformat": 4,
 "nbformat_minor": 5
}
